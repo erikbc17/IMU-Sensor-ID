{
  "nbformat": 4,
  "nbformat_minor": 0,
  "metadata": {
    "colab": {
      "provenance": []
    },
    "kernelspec": {
      "name": "python3",
      "display_name": "Python 3"
    },
    "language_info": {
      "name": "python"
    }
  },
  "cells": [
    {
      "cell_type": "code",
      "execution_count": null,
      "metadata": {
        "id": "x1Ky-xy9LYTk"
      },
      "outputs": [],
      "source": [
        "import serial\n",
        "import csv\n",
        "\n",
        "# Open a serial connection to the Arduino\n",
        "serial_port = 'COM6'  # Replace with the appropriate serial port\n",
        "baud_rate = 115200\n",
        "ser = serial.Serial(serial_port, baud_rate)\n",
        "\n",
        "# Create and open a CSV file for writing\n",
        "csv_file = open('sensor_data.csv', 'w', newline='')\n",
        "csv_writer = csv.writer(csv_file)\n",
        "\n",
        "# Write the header row to the CSV file\n",
        "csv_writer.writerow([\"AccX\", \"AccY\", \"AccZ\", \"GyroX\", \"GyroY\", \"GyroZ\"])\n",
        "\n",
        "try:\n",
        "    while True:\n",
        "        # Read a line of data from the Arduino\n",
        "        data = ser.readline().decode().strip()\n",
        "\n",
        "        # Split the data into individual values\n",
        "        values = data.split(\",\")\n",
        "\n",
        "        # Extract numeric values (skip labels)\n",
        "        numeric_values = [float(val.split(\":\")[1]) for val in values if \":\" in val]\n",
        "\n",
        "        # Ensure that the received data contains the expected number of values\n",
        "        if len(numeric_values) == 6:\n",
        "            # Write the data to the CSV file\n",
        "            csv_writer.writerow(numeric_values)\n",
        "\n",
        "except KeyboardInterrupt:\n",
        "    pass\n",
        "\n",
        "# Close the CSV file and the serial connection\n",
        "csv_file.close()\n",
        "ser.close()\n"
      ]
    }
  ]
}